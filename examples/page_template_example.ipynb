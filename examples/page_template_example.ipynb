{
 "cells": [
  {
   "cell_type": "code",
   "execution_count": null,
   "id": "a245a425-55c7-49fa-b760-5320281ac57a",
   "metadata": {},
   "outputs": [],
   "source": [
    "%load_ext autoreload\n",
    "%autoreload 2\n",
    "import pydoxtools as pdx\n",
    "import pydoxtools.visual_document_analysis as vda\n",
    "vda.box_cols"
   ]
  },
  {
   "cell_type": "code",
   "execution_count": null,
   "id": "aa29403a-448c-4c82-8c78-3f1d97d1c1a1",
   "metadata": {
    "tags": []
   },
   "outputs": [],
   "source": [
    "filename=\"../tests/data/PFR-PR23_BAT-110__V1.00_.pdf\"\n",
    "doc = pdx.Document(filename)"
   ]
  },
  {
   "cell_type": "code",
   "execution_count": null,
   "id": "feec0108-6e18-464e-a297-60f9e16a2c8d",
   "metadata": {
    "tags": []
   },
   "outputs": [],
   "source": [
    "page = 0\n",
    "pdf = pdx.Document(filename, page_numbers=[page])\n",
    "box_cols = vda.box_cols\n",
    "vda.plot_box_layers(\n",
    "    box_layers=[\n",
    "        [pdf.df(\"text_box_elements\")[box_cols].values, vda.LayerProps(alpha=0.5, color=\"red\", filled=False)],\n",
    "        [pdf.df(\"image_elements\")[box_cols].values, vda.LayerProps(alpha=0.5, color=\"blue\", filled=False)],\n",
    "        [pdf.df(\"graphic_elements\")[box_cols].values, vda.LayerProps(alpha=0.5, color=\"yellow\", filled=False)],\n",
    "        [pdf.table_areas[box_cols].values, vda.LayerProps(alpha=1.0, color=\"green\", filled=False)],\n",
    "        # [candidate_areas, vda.LayerProps(alpha=1.0, color=\"green\", filled=False)],\n",
    "        # [tables[box_cols].values, vda.LayerProps(alpha=1.0, color=\"red\", filled=False)],\n",
    "        # [figures[box_cols].values, vda.LayerProps(alpha=1.0, color=\"green\", filled=False)],\n",
    "        # [text[box_cols].values, vda.LayerProps(alpha=1.0, color=\"blue\", filled=False)],\n",
    "        # [p.df_le[vda.box_cols].values, vda.LayerProps(alpha=0.1, color=\"blue\")],\n",
    "        # [t.df_ch[vda.box_cols].values, vda.LayerProps(alpha=1.0, color=\"yellow\", filled=False)],\n",
    "        # [t.df_words[vda.box_cols].values, vda.LayerProps(alpha=0.3, color=\"random\", filled=True)]\n",
    "    ],\n",
    "    bbox=pdf.pages_bbox[page], dpi=250,\n",
    "    image=pdf.images[page],\n",
    "    image_box=pdf.pages_bbox[page],\n",
    "),"
   ]
  },
  {
   "cell_type": "code",
   "execution_count": null,
   "id": "785cc43f-a6d6-4111-83e8-55c8e6768be9",
   "metadata": {
    "tags": []
   },
   "outputs": [],
   "source": [
    "print(doc.page_templates([\"Table\",\"Figure\"], include=False)[0])"
   ]
  },
  {
   "cell_type": "code",
   "execution_count": null,
   "id": "df17ded1-00b2-45bf-8b32-e5b3a7a51291",
   "metadata": {
    "tags": []
   },
   "outputs": [],
   "source": [
    "#doc.document_objects"
   ]
  }
 ],
 "metadata": {
  "kernelspec": {
   "display_name": "Python 3 (ipykernel)",
   "language": "python",
   "name": "python3"
  },
  "language_info": {
   "codemirror_mode": {
    "name": "ipython",
    "version": 3
   },
   "file_extension": ".py",
   "mimetype": "text/x-python",
   "name": "python",
   "nbconvert_exporter": "python",
   "pygments_lexer": "ipython3",
   "version": "3.10.12"
  }
 },
 "nbformat": 4,
 "nbformat_minor": 5
}
