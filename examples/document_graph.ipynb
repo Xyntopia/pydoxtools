{
 "cells": [
  {
   "cell_type": "code",
   "execution_count": null,
   "id": "6846f9bf-9fa2-45d9-91ca-87f345a790e3",
   "metadata": {
    "tags": []
   },
   "outputs": [],
   "source": [
    "%load_ext autoreload\n",
    "%autoreload 2\n",
    "\n",
    "from pathlib import Path\n",
    "import pydoxtools as pdx\n",
    "import pydoxtools.visualization as vd\n",
    "from IPython.display import SVG, display, HTML, Image\n",
    "\n",
    "if False:\n",
    "    pdf = pdx.Document(\"https://en.wikipedia.org/wiki/Rocket\", \n",
    "                              spacy_model_size=\"sm\", coreference_method=\"fast\", context_size=10)\n",
    "    KG = pdf.x(\"document_graph\")\n",
    "\n",
    "    jpg = vd.draw(KG, engine=\"fdp\", format='jpg')\n",
    "    Image(jpg)\n",
    "\n",
    "pdf = pdx.Document(Path(\"../../pydoxtools/README.md\"), \n",
    "                          spacy_model_size=\"sm\", coreference_method=\"fast\", context_size=0)\n",
    "KG = pdf.x(\"document_graph\")\n",
    "\n",
    "jpg = vd.draw(KG, engine=\"fdp\", format='jpg')\n",
    "Image(jpg)\n",
    "\n",
    "# and visualize...\n",
    "svg = vd.draw(KG, engine=\"fdp\", format='graphviz')\n",
    "\n",
    "print(svg)"
   ]
  },
  {
   "cell_type": "code",
   "execution_count": null,
   "id": "b49329b9-db5b-4665-933a-aff1b8420d8e",
   "metadata": {},
   "outputs": [],
   "source": []
  }
 ],
 "metadata": {
  "kernelspec": {
   "display_name": "Python 3 (ipykernel)",
   "language": "python",
   "name": "python3"
  },
  "language_info": {
   "codemirror_mode": {
    "name": "ipython",
    "version": 3
   },
   "file_extension": ".py",
   "mimetype": "text/x-python",
   "name": "python",
   "nbconvert_exporter": "python",
   "pygments_lexer": "ipython3",
   "version": "3.10.12"
  }
 },
 "nbformat": 4,
 "nbformat_minor": 5
}
